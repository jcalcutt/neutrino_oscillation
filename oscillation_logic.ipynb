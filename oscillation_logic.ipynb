{
 "cells": [
  {
   "cell_type": "code",
   "execution_count": 126,
   "metadata": {
    "collapsed": true
   },
   "outputs": [],
   "source": [
    "import sys \n",
    "import math\n",
    "from collections import namedtuple\n",
    "from enum import Enum"
   ]
  },
  {
   "cell_type": "code",
   "execution_count": 146,
   "metadata": {
    "collapsed": false
   },
   "outputs": [],
   "source": [
    "%matplotlib inline\n",
    "import matplotlib.pyplot as plt\n",
    "plt.style.use('seaborn-whitegrid')\n",
    "import numpy as np"
   ]
  },
  {
   "cell_type": "code",
   "execution_count": 3,
   "metadata": {
    "collapsed": false
   },
   "outputs": [
    {
     "name": "stdout",
     "output_type": "stream",
     "text": [
      "3.7.3 (v3.7.3:ef4ec6ed12, Mar 25 2019, 16:52:21) \n",
      "[Clang 6.0 (clang-600.0.57)]\n"
     ]
    }
   ],
   "source": [
    "print(sys.version)"
   ]
  },
  {
   "cell_type": "markdown",
   "metadata": {},
   "source": [
    "### Helpful resources:\n",
    "- https://warwick.ac.uk/fac/sci/physics/staff/academic/boyd/stuff/lec_oscillations.pdf\n",
    "- https://indico.cern.ch/event/394935/sessions/79502/attachments/1212451/1768922/Oscillations.pdf\n",
    "- https://www.nature.com/articles/ncomms7935.pdf?origin=ppub\n"
   ]
  },
  {
   "cell_type": "markdown",
   "metadata": {},
   "source": [
    "P(Ve -> Vu) = sin^2(2*θ)*sin^2(1.27*deltaM^2*(L/Ev))\n",
    "            \n",
    "          = (sin(2θ))^2*(sin(1.27*deltaM^2*(L/Ev))^2\n",
    "\n",
    "- theta is the mixing angle\n",
    "- deltaM is the mass differences between the neutrinos\n",
    "- L is the oscillation distance\n",
    "- Ev is the neutrino energy"
   ]
  },
  {
   "cell_type": "markdown",
   "metadata": {},
   "source": [
    "## Solar Neutrinos\n",
    "electron and muon neutrinos"
   ]
  },
  {
   "cell_type": "markdown",
   "metadata": {},
   "source": [
    "experimental data suggests:\n",
    "- ∆m^2sol = (7.6 ± 0.2) × 10−5eV2\n",
    "- sin^2(2θsol) = 0.8 ± 0.1\n",
    "\n",
    "so, let's work out the probablity of measuring a muon neutrino for a given oscialltion distance and energy"
   ]
  },
  {
   "cell_type": "code",
   "execution_count": 249,
   "metadata": {
    "collapsed": false
   },
   "outputs": [],
   "source": [
    "sin_squared_two_theta = 0.8\n",
    "delta_m_squared = 7.9*10**-5\n",
    "E = 5 # GeV\n",
    "L = 13000 # km"
   ]
  },
  {
   "cell_type": "code",
   "execution_count": 250,
   "metadata": {
    "collapsed": false
   },
   "outputs": [
    {
     "data": {
      "text/plain": [
       "2600.0"
      ]
     },
     "execution_count": 250,
     "metadata": {},
     "output_type": "execute_result"
    }
   ],
   "source": [
    "L/E"
   ]
  },
  {
   "cell_type": "code",
   "execution_count": 251,
   "metadata": {
    "collapsed": true
   },
   "outputs": [],
   "source": [
    "P = sin_squared_two_theta*(math.sin(1.27*delta_m_squared*(L/E)))**2"
   ]
  },
  {
   "cell_type": "code",
   "execution_count": 252,
   "metadata": {
    "collapsed": false
   },
   "outputs": [
    {
     "data": {
      "text/plain": [
       "0.05321389757383813"
      ]
     },
     "execution_count": 252,
     "metadata": {},
     "output_type": "execute_result"
    }
   ],
   "source": [
    "P"
   ]
  },
  {
   "cell_type": "code",
   "execution_count": 123,
   "metadata": {
    "collapsed": true
   },
   "outputs": [],
   "source": [
    "two_phase = namedtuple('two_phase', 'sin_square_two_theta, delta_m_squared')"
   ]
  },
  {
   "cell_type": "code",
   "execution_count": 175,
   "metadata": {
    "collapsed": false
   },
   "outputs": [],
   "source": [
    "class TwoPhase(Enum):\n",
    "    solar = two_phase(0.85, 7.9*10**-5)\n",
    "    atmospheric = two_phase(0.093,2.5**10-3)"
   ]
  },
  {
   "cell_type": "code",
   "execution_count": 176,
   "metadata": {
    "collapsed": true
   },
   "outputs": [],
   "source": [
    "def two_phase_oscillation(oscillation_type, E, L):\n",
    "    sin_s_t_theta, delta_m = [i for i in TwoPhase[oscillation_type].value]\n",
    "    return sin_s_t_theta*(math.sin(1.27*delta_m*(L/E)))**2"
   ]
  },
  {
   "cell_type": "code",
   "execution_count": 177,
   "metadata": {
    "collapsed": false
   },
   "outputs": [
    {
     "data": {
      "text/plain": [
       "0.056539766172203014"
      ]
     },
     "execution_count": 177,
     "metadata": {},
     "output_type": "execute_result"
    }
   ],
   "source": [
    "two_phase_oscillation('solar', 5, 13000)"
   ]
  },
  {
   "cell_type": "markdown",
   "metadata": {},
   "source": [
    "### Santiy check\n",
    "The probabilty of 2 phase osciallation should follow a sine wave.\n",
    "plot proabbaility of flavour change over a given distance for a fixed energy. Plot Solar neutrinos with energy 5MeV, and atmospheric neutrinos with energy 2GeV"
   ]
  },
  {
   "cell_type": "code",
   "execution_count": 245,
   "metadata": {
    "collapsed": false
   },
   "outputs": [],
   "source": [
    "osc_distances = [i for i in range(0,400,1)]"
   ]
  },
  {
   "cell_type": "code",
   "execution_count": 248,
   "metadata": {
    "collapsed": false
   },
   "outputs": [
    {
     "data": {
      "text/plain": [
       "Text(0, 0.5, 'Probability of flavour change')"
      ]
     },
     "execution_count": 248,
     "metadata": {},
     "output_type": "execute_result"
    },
    {
     "data": {
      "image/png": "[encoded data removed]",
      "text/plain": [
       "<Figure size 432x288 with 1 Axes>"
      ]
     },
     "metadata": {},
     "output_type": "display_data"
    }
   ],
   "source": [
    "plt.plot(osc_distances, [two_phase_oscillation('solar', 0.005, i) for i in osc_distances], color='blue') # solar\n",
    "plt.plot(osc_distances, [two_phase_oscillation('atmospheric', 2, i) for i in osc_distances], color='orange') # atmospheric\n",
    "plt.legend(['solar', 'atmospheric'], loc='upper left')\n",
    "plt.xlabel(\"Oscillation distance (km)\")\n",
    "plt.ylabel(\"Probability of flavour change\")"
   ]
  },
  {
   "cell_type": "code",
   "execution_count": 267,
   "metadata": {
    "collapsed": false
   },
   "outputs": [],
   "source": [
    "def two_ts(**kwargs):\n",
    "    if kwargs.get('hello'):\n",
    "        print(kwargs['hello'])\n",
    "    elif kwargs.get('goodbye'):\n",
    "        print(kwargs['goodbye'])\n",
    "    else:\n",
    "        print('none')\n",
    "    return"
   ]
  },
  {
   "cell_type": "code",
   "execution_count": 269,
   "metadata": {
    "collapsed": false
   },
   "outputs": [
    {
     "name": "stdout",
     "output_type": "stream",
     "text": [
      "world_2\n"
     ]
    }
   ],
   "source": [
    "two_ts(goodbye='world_2')"
   ]
  },
  {
   "cell_type": "code",
   "execution_count": null,
   "metadata": {
    "collapsed": true
   },
   "outputs": [],
   "source": []
  }
 ],
 "metadata": {
  "kernelspec": {
   "display_name": "neutrino",
   "language": "python",
   "name": "neutrino"
  },
  "language_info": {
   "codemirror_mode": {
    "name": "ipython",
    "version": 3
   },
   "file_extension": ".py",
   "mimetype": "text/x-python",
   "name": "python",
   "nbconvert_exporter": "python",
   "pygments_lexer": "ipython3",
   "version": "3.7.3"
  }
 },
 "nbformat": 4,
 "nbformat_minor": 2
}
